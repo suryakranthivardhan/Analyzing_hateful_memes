{
  "nbformat": 4,
  "nbformat_minor": 0,
  "metadata": {
    "colab": {
      "provenance": []
    },
    "kernelspec": {
      "name": "python3",
      "display_name": "Python 3"
    },
    "language_info": {
      "name": "python"
    }
  },
  "cells": [
    {
      "cell_type": "markdown",
      "source": [
        "**Mount drive to colab**"
      ],
      "metadata": {
        "id": "gUSYQ5OSbrx_"
      }
    },
    {
      "cell_type": "code",
      "execution_count": null,
      "metadata": {
        "id": "ZgXHyb78bcAE"
      },
      "outputs": [],
      "source": [
        "from google.colab import drive\n",
        "drive.mount('/content/drive')"
      ]
    },
    {
      "cell_type": "markdown",
      "source": [
        "**unzipping the dataset**"
      ],
      "metadata": {
        "id": "qVsZJnmObzUc"
      }
    },
    {
      "cell_type": "code",
      "source": [
        "!unzip /content/drive/MyDrive/dataset.zip"
      ],
      "metadata": {
        "id": "aXIiJZyqbv81"
      },
      "execution_count": null,
      "outputs": []
    },
    {
      "cell_type": "markdown",
      "source": [
        "**Installing necessary libraries**"
      ],
      "metadata": {
        "id": "RbpBseHtd6HQ"
      }
    },
    {
      "cell_type": "code",
      "source": [
        "!apt install tesseract-ocr\n",
        "!pip install pytesseract"
      ],
      "metadata": {
        "id": "Pa_qlVHKd3ti"
      },
      "execution_count": null,
      "outputs": []
    },
    {
      "cell_type": "markdown",
      "source": [
        "**import necessary libraries**"
      ],
      "metadata": {
        "id": "bxvRGz3Rb8AR"
      }
    },
    {
      "cell_type": "code",
      "source": [
        "import os\n",
        "import torch\n",
        "import torchvision\n",
        "from torchvision import transforms as T\n",
        "from PIL import Image, ImageDraw, ImageFont\n",
        "import numpy as np\n",
        "import pytesseract\n",
        "from collections import defaultdict"
      ],
      "metadata": {
        "id": "RvSw7GVNb3D2"
      },
      "execution_count": null,
      "outputs": []
    },
    {
      "cell_type": "markdown",
      "source": [
        "**Loading pre existing model**"
      ],
      "metadata": {
        "id": "DwYdLdTzcWbN"
      }
    },
    {
      "cell_type": "code",
      "source": [
        "def get_model():\n",
        "    model = torchvision.models.detection.fasterrcnn_resnet50_fpn(pretrained=True)\n",
        "    model.eval()\n",
        "    return model\n",
        "\n",
        "# Transform function to convert image to tensor\n",
        "def get_transform():\n",
        "    return T.Compose([T.ToTensor()])\n",
        "\n",
        "# Function to perform inference\n",
        "def detect_objects(image, model, transform):\n",
        "    image_tensor = transform(image).unsqueeze(0)\n",
        "    with torch.no_grad():\n",
        "        outputs = model(image_tensor)\n",
        "    return outputs[0]"
      ],
      "metadata": {
        "id": "d1XX2-XccAi4"
      },
      "execution_count": null,
      "outputs": []
    },
    {
      "cell_type": "markdown",
      "source": [
        "**Extracting text from images**"
      ],
      "metadata": {
        "id": "9eOCxFatc7LX"
      }
    },
    {
      "cell_type": "code",
      "source": [
        "# Function to extract text from image using Tesseract OCR\n",
        "def extract_text(image):\n",
        "    return pytesseract.image_to_string(image, lang='eng')"
      ],
      "metadata": {
        "id": "6CBplKgqccj-"
      },
      "execution_count": null,
      "outputs": []
    },
    {
      "cell_type": "markdown",
      "source": [
        "**Adding text back to the images**"
      ],
      "metadata": {
        "id": "9-Z7nvUidPDW"
      }
    },
    {
      "cell_type": "code",
      "source": [
        "def add_text(image, text, position=(10, 10)):\n",
        "    draw = ImageDraw.Draw(image)\n",
        "    font = ImageFont.load_default()\n",
        "\n",
        "    try:\n",
        "        draw.text(position, text, fill=\"white\", font=font)\n",
        "    except UnicodeEncodeError:\n",
        "        # Handle encoding issues by replacing problematic characters\n",
        "        safe_text = text.encode('ascii', 'ignore').decode('ascii')\n",
        "        draw.text(position, safe_text, fill=\"white\", font=font)\n",
        "    return image"
      ],
      "metadata": {
        "id": "WMtH_XCldAmg"
      },
      "execution_count": null,
      "outputs": []
    },
    {
      "cell_type": "markdown",
      "source": [
        "**Performing average detection ratio**"
      ],
      "metadata": {
        "id": "uxaUbFE-db0p"
      }
    },
    {
      "cell_type": "code",
      "source": [
        "def compare_detections(original_outputs, captioned_outputs, threshold=0.5):\n",
        "    original_boxes = original_outputs['boxes'].cpu().numpy()\n",
        "    original_scores = original_outputs['scores'].cpu().numpy()\n",
        "    captioned_boxes = captioned_outputs['boxes'].cpu().numpy()\n",
        "    captioned_scores = captioned_outputs['scores'].cpu().numpy()\n",
        "\n",
        "    # Detection count consistency\n",
        "    original_count = len([s for s in original_scores if s > threshold])\n",
        "    captioned_count = len([s for s in captioned_scores if s > threshold])\n",
        "    detection_ratio = captioned_count / original_count if original_count else 0"
      ],
      "metadata": {
        "id": "WA1Lhu5UdSNb"
      },
      "execution_count": null,
      "outputs": []
    },
    {
      "cell_type": "markdown",
      "source": [
        "**Performing IOU**"
      ],
      "metadata": {
        "id": "R0Tf8ztrdkFw"
      }
    },
    {
      "cell_type": "code",
      "source": [
        " def iou(box1, box2):\n",
        "        x1, y1, x2, y2 = box1\n",
        "        x1_, y1_, x2_, y2_ = box2\n",
        "        xi1, yi1, xi2, yi2 = max(x1, x1_), max(y1, y1_), min(x2, x2_), min(y2, y2_)\n",
        "        inter_area = max(xi2 - xi1, 0) * max(yi2 - yi1, 0)\n",
        "        box1_area = (x2 - x1) * (y2 - y1)\n",
        "        box2_area = (x2_ - x1_) * (y2_ - y1_)\n",
        "        union_area = box1_area + box2_area - inter_area\n",
        "        return inter_area / union_area if union_area else 0\n",
        "\n",
        "    ious = [max(iou(ob, cb) for cb in captioned_boxes) for ob in original_boxes]\n",
        "    average_iou = np.mean(ious)\n",
        "\n",
        "    return detection_ratio, average_iou"
      ],
      "metadata": {
        "id": "0bseP2atdgXC"
      },
      "execution_count": null,
      "outputs": []
    },
    {
      "cell_type": "markdown",
      "source": [
        "**Main function to process the dataset**"
      ],
      "metadata": {
        "id": "oKhhMwHrduwi"
      }
    },
    {
      "cell_type": "code",
      "source": [
        "def main(dataset_dir):\n",
        "    model = get_model()\n",
        "    transform = get_transform()\n",
        "\n",
        "    detection_ratios = []\n",
        "    average_ious = []\n",
        "\n",
        "    for image_name in os.listdir(dataset_dir):\n",
        "        image_path = os.path.join(dataset_dir, image_name)\n",
        "        if image_path.endswith(('.png', '.jpg', '.jpeg')):\n",
        "            image = Image.open(image_path).convert(\"RGB\")\n",
        "            original_outputs = detect_objects(image, model, transform)\n",
        "\n",
        "            # Extract text using OCR\n",
        "            extracted_text = extract_text(image)\n",
        "\n",
        "            # Add extracted text back to the image\n",
        "            captioned_image = image.copy()\n",
        "            captioned_image = add_text(captioned_image, extracted_text)\n",
        "            captioned_outputs = detect_objects(captioned_image, model, transform)\n",
        "\n",
        "            detection_ratio, average_iou = compare_detections(original_outputs, captioned_outputs)\n",
        "            detection_ratios.append(detection_ratio)\n",
        "            average_ious.append(average_iou)\n",
        "\n",
        "    # Print the results\n",
        "    print(f\"Average Detection Ratio: {np.mean(detection_ratios):.2f}\")\n",
        "    print(f\"Average IoU: {np.mean(average_ious):.2f}\")\n",
        "\n",
        "if __name__ == \"__main__\":\n",
        "    dataset_dir = '/content/dataset'  # Update this path\n",
        "    main(dataset_dir)"
      ],
      "metadata": {
        "id": "g3mjfXC8doJn"
      },
      "execution_count": null,
      "outputs": []
    }
  ]
}